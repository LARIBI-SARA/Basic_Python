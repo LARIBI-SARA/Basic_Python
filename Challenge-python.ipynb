{
 "cells": [
  {
   "cell_type": "code",
   "execution_count": 1,
   "id": "9520f518",
   "metadata": {},
   "outputs": [
    {
     "name": "stdout",
     "output_type": "stream",
     "text": [
      "Tax amount: 4.29866\n",
      "Cost after tax: 59.058659999999996\n",
      "Tip amount: 8.858799\n",
      "Total cost: 67.917459\n"
     ]
    }
   ],
   "source": [
    "## Exercice 1 :\n",
    "cost_of_meal = 54.76\n",
    "tax_rate = 0.0785\n",
    "tip_rate = 0.15\n",
    "tax_amount = cost_of_meal * tax_rate\n",
    "cost_after_tax = cost_of_meal + tax_amount\n",
    "tip_amount = cost_after_tax * tip_rate\n",
    "total_cost = cost_after_tax + tip_amount\n",
    "print(\"Tax amount:\", tax_amount)\n",
    "print(\"Cost after tax:\", cost_after_tax)\n",
    "print(\"Tip amount:\", tip_amount)\n",
    "print(\"Total cost:\", total_cost)\n",
    "\n"
   ]
  },
  {
   "cell_type": "code",
   "execution_count": 2,
   "id": "023a0a4b",
   "metadata": {},
   "outputs": [
    {
     "name": "stdout",
     "output_type": "stream",
     "text": [
      "Length of the original string: 41\n",
      "Length of split string: 9\n",
      "Middle element: jumps\n",
      "Joined string: The a brown dog fox jumps lazy over quick example\n"
     ]
    }
   ],
   "source": [
    "##Exercice 2 :\n",
    "string_value = 'The quick brown fox jumps over a lazy dog'\n",
    "print(\"Length of the original string:\", len(string_value))\n",
    "split_string = string_value.split(' ')\n",
    "print(\"Length of split string:\", len(split_string))\n",
    "middle_index = len(split_string) // 2\n",
    "middle_element = split_string[middle_index]\n",
    "print(\"Middle element:\", middle_element)\n",
    "split_string.sort()\n",
    "split_string.append(\"example\")\n",
    "joined_string = ' '.join(split_string)\n",
    "print(\"Joined string:\", joined_string)\n"
   ]
  },
  {
   "cell_type": "code",
   "execution_count": 3,
   "id": "f0e9cd85",
   "metadata": {},
   "outputs": [
    {
     "name": "stdout",
     "output_type": "stream",
     "text": [
      "Keys: dict_keys(['Director', 'Movies', 'Academy Awards'])\n",
      "Values: dict_values([['Q Tarantino', 'C Nolan', 'S Spielberg', 'PT Anderson', 'M Scorsese', 'C Eastwood'], [10, 11, 37, 9, 25, 40], [7, 11, 3, 3, 20, 4]])\n",
      "Manager Dictionary: {'name': 'Laribi Sara', 'salary': 7980147, 'assistant': {'name': 'Laribi Mehdi', 'salary': 8000}}\n"
     ]
    }
   ],
   "source": [
    "## Exercice 3 :\n",
    "\n",
    "#    1/\n",
    "\n",
    "data = {\n",
    "    'Director': ['Q Tarantino', 'C Nolan', 'S Spielberg', 'PT Anderson', 'M Scorsese', 'C Eastwood'],\n",
    "    'Movies': [10, 11, 37, 9, 25, 40],\n",
    "    'Academy Awards': [7, 11, 3, 3, 20, 4]\n",
    "}\n",
    "\n",
    "#   2/\n",
    "\n",
    "keys = data.keys()\n",
    "values = data.values()\n",
    "\n",
    "print(\"Keys:\", keys)\n",
    "print(\"Values:\", values)\n",
    "\n",
    "#   3/\n",
    "manager = {\n",
    "    'name': 'Laribi Sara',\n",
    "    'salary': 7980147,\n",
    "    'assistant': {\n",
    "        'name': 'Laribi Mehdi',\n",
    "        'salary': 8000\n",
    "    }\n",
    "}\n",
    "print(\"Manager Dictionary:\", manager)\n"
   ]
  },
  {
   "cell_type": "code",
   "execution_count": null,
   "id": "fdafaca6",
   "metadata": {},
   "outputs": [],
   "source": []
  }
 ],
 "metadata": {
  "kernelspec": {
   "display_name": "Python 3 (ipykernel)",
   "language": "python",
   "name": "python3"
  },
  "language_info": {
   "codemirror_mode": {
    "name": "ipython",
    "version": 3
   },
   "file_extension": ".py",
   "mimetype": "text/x-python",
   "name": "python",
   "nbconvert_exporter": "python",
   "pygments_lexer": "ipython3",
   "version": "3.10.9"
  }
 },
 "nbformat": 4,
 "nbformat_minor": 5
}
